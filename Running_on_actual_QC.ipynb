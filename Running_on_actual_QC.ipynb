{
 "cells": [
  {
   "cell_type": "code",
   "execution_count": 1,
   "id": "7bb85074-70fc-4e1a-a590-c7c052e28de3",
   "metadata": {},
   "outputs": [],
   "source": [
    "import numpy as np\n",
    "\n",
    "# Importing standard Qiskit libraries\n",
    "from qiskit import *\n",
    "import matplotlib as plt"
   ]
  },
  {
   "cell_type": "code",
   "execution_count": 16,
   "id": "1a16e225-ee5e-4f24-a05f-081a25955e87",
   "metadata": {},
   "outputs": [],
   "source": [
    "circuit = QuantumCircuit(2,2)"
   ]
  },
  {
   "cell_type": "code",
   "execution_count": 17,
   "id": "77663243-cb07-48ed-a3d6-32261748d753",
   "metadata": {},
   "outputs": [],
   "source": [
    "quantum_register = QuantumRegister(2)\n",
    "classical_register = ClassicalRegister(2)"
   ]
  },
  {
   "cell_type": "code",
   "execution_count": 18,
   "id": "7ecb329f-d5c9-4a7e-b5dd-34695956f451",
   "metadata": {},
   "outputs": [],
   "source": [
    "circuit = QuantumCircuit(quantum_register,classical_register)"
   ]
  },
  {
   "cell_type": "code",
   "execution_count": 19,
   "id": "409e9114-ad08-4c6b-b30d-e9ba5cc4398a",
   "metadata": {},
   "outputs": [
    {
     "data": {
      "image/png": "[encoded data removed]",
      "text/plain": [
       "<Figure size 129.678x204.68 with 1 Axes>"
      ]
     },
     "execution_count": 19,
     "metadata": {},
     "output_type": "execute_result"
    }
   ],
   "source": [
    "circuit.draw()"
   ]
  },
  {
   "cell_type": "code",
   "execution_count": 20,
   "id": "1ddbb547-8ab6-452e-aa1c-fc408a926358",
   "metadata": {},
   "outputs": [],
   "source": [
    "%matplotlib inline"
   ]
  },
  {
   "cell_type": "code",
   "execution_count": 21,
   "id": "7da61141-7e03-4c88-a204-efdc45dc7bac",
   "metadata": {},
   "outputs": [
    {
     "data": {
      "image/png": "[encoded data removed]",
      "text/plain": [
       "<Figure size 159.778x204.68 with 1 Axes>"
      ]
     },
     "execution_count": 21,
     "metadata": {},
     "output_type": "execute_result"
    }
   ],
   "source": [
    "circuit.h(0)\n",
    "circuit.draw()"
   ]
  },
  {
   "cell_type": "code",
   "execution_count": 22,
   "id": "a5eff71e-da2a-47de-8ed4-faf31a789d37",
   "metadata": {},
   "outputs": [
    {
     "data": {
      "text/plain": [
       "<qiskit.circuit.instructionset.InstructionSet at 0x7fc4328649d0>"
      ]
     },
     "execution_count": 22,
     "metadata": {},
     "output_type": "execute_result"
    }
   ],
   "source": [
    "circuit.cx(0,1)\n",
    "circuit.measure([0,1],[0,1])"
   ]
  },
  {
   "cell_type": "code",
   "execution_count": 23,
   "id": "ef1d6af0-997f-4705-814e-662146787732",
   "metadata": {},
   "outputs": [
    {
     "data": {
      "image/png": "[encoded data removed]",
      "text/plain": [
       "<Figure size 340.378x204.68 with 1 Axes>"
      ]
     },
     "execution_count": 23,
     "metadata": {},
     "output_type": "execute_result"
    }
   ],
   "source": [
    "circuit.draw()"
   ]
  },
  {
   "cell_type": "code",
   "execution_count": 36,
   "id": "c2e0a885-b219-4242-a0d0-7ed4b0b24d90",
   "metadata": {},
   "outputs": [],
   "source": [
    "simulator = Aer.get_backend(\"qasm_simulator\")"
   ]
  },
  {
   "cell_type": "code",
   "execution_count": 37,
   "id": "07edd495-1e3e-44b9-b8a0-3b681aa17754",
   "metadata": {},
   "outputs": [],
   "source": [
    "result=execute(circuit,backend=simulator)"
   ]
  },
  {
   "cell_type": "code",
   "execution_count": 38,
   "id": "01d5d945-14bc-4b7c-a5c1-fbb7f1c10464",
   "metadata": {},
   "outputs": [
    {
     "data": {
      "text/plain": [
       "<qiskit.providers.aer.jobs.aerjob.AerJob at 0x7fc42b8f4dc0>"
      ]
     },
     "execution_count": 38,
     "metadata": {},
     "output_type": "execute_result"
    }
   ],
   "source": [
    "result"
   ]
  },
  {
   "cell_type": "code",
   "execution_count": 39,
   "id": "59284bb5-e35c-416a-a4d7-45b4a77691c0",
   "metadata": {},
   "outputs": [],
   "source": [
    "from qiskit.visualization import plot_histogram"
   ]
  },
  {
   "cell_type": "code",
   "execution_count": 41,
   "id": "d7f64a6a-32d0-4827-9d8e-b748e7cb8851",
   "metadata": {},
   "outputs": [
    {
     "name": "stdout",
     "output_type": "stream",
     "text": [
      "Traceback \u001b[1;36m(most recent call last)\u001b[0m:\n",
      "\u001b[1;36m  File \u001b[1;32m\"/tmp/ipykernel_110/2978258012.py\"\u001b[1;36m, line \u001b[1;32m1\u001b[1;36m, in \u001b[1;35m<module>\u001b[1;36m\u001b[0m\n",
      "\u001b[1;33m    plot_histogram(result.get_count(circuit))\u001b[0m\n",
      "\u001b[1;31mAttributeError\u001b[0m\u001b[1;31m:\u001b[0m 'AerJob' object has no attribute 'get_count'\n",
      "\n",
      "Use %tb to get the full traceback.\n"
     ]
    },
    {
     "data": {
      "text/html": [
       "\n",
       "<style>\n",
       ".button {\n",
       "  border: none;\n",
       "  color: white;\n",
       "  padding: 4px 8px;\n",
       "  text-align: center;\n",
       "  text-decoration: none;\n",
       "  display: inline-block;\n",
       "  font-size: 12px;\n",
       "  margin: 4px 2px;\n",
       "  transition-duration: 0.2s;\n",
       "  cursor: pointer;\n",
       "}\n",
       ".iqx-button {\n",
       "  background-color: #0f62fe; \n",
       "  color: white; \n",
       "}\n",
       ".iqx-button:hover {\n",
       "  background-color: #0043ce;\n",
       "  color: white;\n",
       "}\n",
       "</style>\n",
       "<a href=\"https://stackoverflow.com/search?q=AttributeError: 'AerJob' object has no attribute 'get_count'\" target='_blank'><button class='button iqx-button'>Search for solution online</button></a>\n"
      ],
      "text/plain": [
       "<IPython.core.display.HTML object>"
      ]
     },
     "metadata": {},
     "output_type": "display_data"
    }
   ],
   "source": [
    "plot_histogram(result.get_count(circuit))"
   ]
  },
  {
   "cell_type": "code",
   "execution_count": 42,
   "id": "2038682c-4634-420f-8f3d-1d0f1f1d221c",
   "metadata": {},
   "outputs": [
    {
     "data": {
      "text/plain": [
       "<AccountProvider for IBMQ(hub='ibm-q', group='open', project='main')>"
      ]
     },
     "execution_count": 42,
     "metadata": {},
     "output_type": "execute_result"
    }
   ],
   "source": [
    "IBMQ.load_account()"
   ]
  },
  {
   "cell_type": "code",
   "execution_count": 43,
   "id": "8180fcb2-bd72-4c9d-a3d7-1c3506a40385",
   "metadata": {},
   "outputs": [],
   "source": [
    "provider = IBMQ.get_provider(\"ibm-q\")"
   ]
  },
  {
   "cell_type": "code",
   "execution_count": 44,
   "id": "58c48467-3080-4cdc-865d-bf4ddea585e6",
   "metadata": {},
   "outputs": [],
   "source": [
    "Q_C = provider.get_backend('ibmq_lima')"
   ]
  },
  {
   "cell_type": "code",
   "execution_count": 46,
   "id": "5a3a4d8d-2c34-485f-ae79-d241fb7a7486",
   "metadata": {},
   "outputs": [],
   "source": [
    "job = execute(circuit,backend = Q_C)"
   ]
  },
  {
   "cell_type": "code",
   "execution_count": 47,
   "id": "a4ba86e7-1851-4cb9-b9be-13c37f97fc15",
   "metadata": {},
   "outputs": [],
   "source": [
    "Q_result = job.result()\n"
   ]
  },
  {
   "cell_type": "code",
   "execution_count": null,
   "id": "f20ce65e-8d64-4cdd-ad11-ab58037cb318",
   "metadata": {},
   "outputs": [],
   "source": [
    "plot_histogram(quantum"
   ]
  }
 ],
 "metadata": {
  "kernelspec": {
   "display_name": "Qiskit v0.31.0 (ipykernel)",
   "language": "python",
   "name": "python3"
  },
  "language_info": {
   "codemirror_mode": {
    "name": "ipython",
    "version": 3
   },
   "file_extension": ".py",
   "mimetype": "text/x-python",
   "name": "python",
   "nbconvert_exporter": "python",
   "pygments_lexer": "ipython3",
   "version": "3.8.10"
  },
  "widgets": {
   "application/vnd.jupyter.widget-state+json": {
    "state": {},
    "version_major": 2,
    "version_minor": 0
   }
  }
 },
 "nbformat": 4,
 "nbformat_minor": 5
}
