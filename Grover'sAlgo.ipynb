{
 "cells": [
  {
   "cell_type": "code",
   "execution_count": 3,
   "id": "b11e1cd4-8041-4013-a85e-681dc34d2025",
   "metadata": {},
   "outputs": [],
   "source": [
    "import numpy as np\n",
    "\n",
    "# Importing standard Qiskit libraries\n",
    "from qiskit import *\n",
    "from qiskit.tools.jupyter import *\n",
    "from qiskit.visualization import *\n",
    "from ibm_quantum_widgets import *\n",
    "from qiskit.providers.aer import QasmSimulator\n",
    "\n",
    "# Loading your IBM Quantum account(s)\n",
    "provider = IBMQ.load_account()"
   ]
  },
  {
   "cell_type": "code",
   "execution_count": 4,
   "id": "1d3e32f0-e3bf-4bc6-8661-a294407305b1",
   "metadata": {},
   "outputs": [],
   "source": [
    "#Classical search\n",
    "myList = [5,4,6,9,1,2,3,7,8,0]"
   ]
  },
  {
   "cell_type": "code",
   "execution_count": 5,
   "id": "53e79bc8-8db8-4d31-8071-dd30eaa5911f",
   "metadata": {},
   "outputs": [],
   "source": [
    "def oracle(number):\n",
    "    winingNumber = 8\n",
    "    if number == winingNumber:\n",
    "        response = True\n",
    "    else:\n",
    "        response = False\n",
    "    return response"
   ]
  },
  {
   "cell_type": "code",
   "execution_count": 6,
   "id": "5abd0b39-4747-40c8-901f-b81cd175bb26",
   "metadata": {},
   "outputs": [
    {
     "name": "stdout",
     "output_type": "stream",
     "text": [
      "winning number index: 8\n",
      "execution count: 9\n"
     ]
    }
   ],
   "source": [
    "for index,number in enumerate(myList):\n",
    "    if oracle(number) is True:\n",
    "        print(f\"winning number index: {index}\")\n",
    "        print(f\"execution count: {index+1}\")\n",
    "        break"
   ]
  },
  {
   "cell_type": "code",
   "execution_count": 8,
   "id": "47598b65-d938-43c1-a0fc-77ed4965000e",
   "metadata": {},
   "outputs": [],
   "source": [
    "#quantum circuit oracle circuit - (winning state = 11)"
   ]
  },
  {
   "cell_type": "code",
   "execution_count": 11,
   "id": "a5c6d1c1-0af5-4a4e-8232-05e674c8225a",
   "metadata": {},
   "outputs": [
    {
     "data": {
      "image/png": "[encoded data removed]",
      "text/plain": [
       "<Figure size 146.652x144.48 with 1 Axes>"
      ]
     },
     "execution_count": 11,
     "metadata": {},
     "output_type": "execute_result"
    }
   ],
   "source": [
    "oracleCircuit = QuantumCircuit(2,name= \"oracleCircuit\")\n",
    "oracleCircuit.cz(0,1)\n",
    "oracleCircuit.to_gate()\n",
    "oracleCircuit.draw(output='mpl')"
   ]
  },
  {
   "cell_type": "code",
   "execution_count": 13,
   "id": "ba5fb4ca-ade5-4301-91e4-02d81fd16bc7",
   "metadata": {},
   "outputs": [
    {
     "data": {
      "image/png": "[encoded data removed]",
      "text/plain": [
       "<Figure size 327.252x204.68 with 1 Axes>"
      ]
     },
     "execution_count": 13,
     "metadata": {},
     "output_type": "execute_result"
    }
   ],
   "source": [
    "mainCircuit = QuantumCircuit(2,2)\n",
    "mainCircuit.h([0,1])\n",
    "mainCircuit.append(oracleCircuit,[0,1])\n",
    "mainCircuit.draw(output='mpl')"
   ]
  },
  {
   "cell_type": "code",
   "execution_count": 16,
   "id": "16e1651f-e2ae-421a-bafc-39ae436280aa",
   "metadata": {},
   "outputs": [
    {
     "data": {
      "image/png": "[encoded data removed]",
      "text/plain": [
       "<Figure size 327.252x144.48 with 1 Axes>"
      ]
     },
     "execution_count": 16,
     "metadata": {},
     "output_type": "execute_result"
    }
   ],
   "source": [
    "reflectionCircuit = QuantumCircuit(2, name = 'reflection_circuit')\n",
    "reflectionCircuit.h([0,1])\n",
    "reflectionCircuit.z([0,1])\n",
    "reflectionCircuit.cz(0,1)\n",
    "reflectionCircuit.h([0,1])\n",
    "reflectionCircuit.to_gate()\n",
    "reflectionCircuit.draw(output='mpl')"
   ]
  },
  {
   "cell_type": "code",
   "execution_count": 17,
   "id": "b505edd1-c965-47ee-b8a9-8ffcf9b6eea2",
   "metadata": {},
   "outputs": [
    {
     "data": {
      "image/png": "[encoded data removed]",
      "text/plain": [
       "<Figure size 628.252x204.68 with 1 Axes>"
      ]
     },
     "execution_count": 17,
     "metadata": {},
     "output_type": "execute_result"
    }
   ],
   "source": [
    "mainCircuit.append(reflectionCircuit,[0,1])\n",
    "mainCircuit.measure([0,1],[0,1])\n",
    "mainCircuit.draw(output='mpl')"
   ]
  },
  {
   "cell_type": "code",
   "execution_count": 18,
   "id": "7c42ea81-3bc3-4315-adb9-33b5b0242df2",
   "metadata": {},
   "outputs": [],
   "source": [
    "backend = Aer.get_backend('qasm_simulator')\n",
    "result = execute(mainCircuit , backend=backend,shots=1).result()\n",
    "counts = result.get_counts(mainCircuit)"
   ]
  },
  {
   "cell_type": "code",
   "execution_count": 19,
   "id": "34bca851-e514-4877-a90d-70d9b8665e55",
   "metadata": {},
   "outputs": [
    {
     "data": {
      "image/png": "[encoded data removed]",
      "text/plain": [
       "<Figure size 504x360 with 1 Axes>"
      ]
     },
     "execution_count": 19,
     "metadata": {},
     "output_type": "execute_result"
    }
   ],
   "source": [
    "plot_histogram([counts])"
   ]
  },
  {
   "cell_type": "code",
   "execution_count": null,
   "id": "f425e1c3-0caa-4f4f-ae01-2b9b24e0d4a4",
   "metadata": {},
   "outputs": [],
   "source": []
  }
 ],
 "metadata": {
  "kernelspec": {
   "display_name": "Qiskit v0.31.0 (ipykernel)",
   "language": "python",
   "name": "python3"
  },
  "language_info": {
   "codemirror_mode": {
    "name": "ipython",
    "version": 3
   },
   "file_extension": ".py",
   "mimetype": "text/x-python",
   "name": "python",
   "nbconvert_exporter": "python",
   "pygments_lexer": "ipython3",
   "version": "3.8.10"
  },
  "widgets": {
   "application/vnd.jupyter.widget-state+json": {
    "state": {
     "008559d4b296437e8be76a9d18726382": {
      "model_module": "@jupyter-widgets/controls",
      "model_module_version": "1.5.0",
      "model_name": "DescriptionStyleModel",
      "state": {
       "description_width": ""
      }
     },
     "0cd2e4025b554f52ada9dcbd5e78a697": {
      "model_module": "@jupyter-widgets/controls",
      "model_module_version": "1.5.0",
      "model_name": "GridBoxModel",
      "state": {
       "children": [
        "IPY_MODEL_e5cf145a2a1142ed81b26543ae402fba"
       ],
       "layout": "IPY_MODEL_c54ceef55b2c4ab3998721bf9894d34a"
      }
     },
     "1f748a81119a4775983f45425b2c448b": {
      "model_module": "@jupyter-widgets/base",
      "model_module_version": "1.2.0",
      "model_name": "LayoutModel",
      "state": {
       "margin": "0px 0px 0px 37px",
       "width": "600px"
      }
     },
     "2a1d9d7fbf16486fb96eb5fd1398408a": {
      "model_module": "@jupyter-widgets/base",
      "model_module_version": "1.2.0",
      "model_name": "LayoutModel",
      "state": {
       "width": "145px"
      }
     },
     "4ddb7c08efdb472db417f1434d84946a": {
      "model_module": "@jupyter-widgets/controls",
      "model_module_version": "1.5.0",
      "model_name": "HTMLModel",
      "state": {
       "layout": "IPY_MODEL_bb81c868dfca4983970ac58b1c2bd59c",
       "style": "IPY_MODEL_008559d4b296437e8be76a9d18726382",
       "value": "<h5>Message</h5>"
      }
     },
     "57d16d272212447d84fb2e7d9e71ca7e": {
      "model_module": "@jupyter-widgets/base",
      "model_module_version": "1.2.0",
      "model_name": "LayoutModel",
      "state": {
       "width": "190px"
      }
     },
     "5bf6d54902ef49e58de2b51df15e0681": {
      "model_module": "@jupyter-widgets/base",
      "model_module_version": "1.2.0",
      "model_name": "LayoutModel",
      "state": {
       "grid_area": "right",
       "padding": "0px 0px 0px 0px",
       "width": "70px"
      }
     },
     "5e08e8e85cb945e2a821199b3e4901e3": {
      "model_module": "@jupyter-widgets/controls",
      "model_module_version": "1.5.0",
      "model_name": "HTMLModel",
      "state": {
       "layout": "IPY_MODEL_2a1d9d7fbf16486fb96eb5fd1398408a",
       "style": "IPY_MODEL_9e74178f11104d9c9d23a6a1d1fd49fe",
       "value": "<h5>Backend</h5>"
      }
     },
     "61438e9b73cb40a0833bd6b03f6c3b7e": {
      "model_module": "@jupyter-widgets/controls",
      "model_module_version": "1.5.0",
      "model_name": "HBoxModel",
      "state": {
       "children": [
        "IPY_MODEL_aecd0feae45f4d23b44ecab0849892fd",
        "IPY_MODEL_5e08e8e85cb945e2a821199b3e4901e3",
        "IPY_MODEL_dbb697e29b1e4b35b7245c926a7397b2",
        "IPY_MODEL_d03a72c639714f30b607a12f93d055cc",
        "IPY_MODEL_4ddb7c08efdb472db417f1434d84946a"
       ],
       "layout": "IPY_MODEL_1f748a81119a4775983f45425b2c448b"
      }
     },
     "81936667af9e4a3f9660409da5718583": {
      "model_module": "@jupyter-widgets/base",
      "model_module_version": "1.2.0",
      "model_name": "LayoutModel",
      "state": {
       "width": "70px"
      }
     },
     "83d4969607714b61a9809b1cccc4dbf0": {
      "model_module": "@jupyter-widgets/controls",
      "model_module_version": "1.5.0",
      "model_name": "DescriptionStyleModel",
      "state": {
       "description_width": ""
      }
     },
     "978393f89cf841d597253afbac01f4a3": {
      "model_module": "@jupyter-widgets/controls",
      "model_module_version": "1.5.0",
      "model_name": "HTMLModel",
      "state": {
       "layout": "IPY_MODEL_ddd2d6c33c6a4794b5d2f2221007f745",
       "style": "IPY_MODEL_f6211c53d62d49ea9514381aea3f255a",
       "value": "<p style='font-family: IBM Plex Sans, Arial, Helvetica, sans-serif; font-size: 20px; font-weight: medium;'>Circuit Properties</p>"
      }
     },
     "9e74178f11104d9c9d23a6a1d1fd49fe": {
      "model_module": "@jupyter-widgets/controls",
      "model_module_version": "1.5.0",
      "model_name": "DescriptionStyleModel",
      "state": {
       "description_width": ""
      }
     },
     "a96bfd7ee0b645b3ab9dfb25a98b3ffe": {
      "model_module": "@jupyter-widgets/base",
      "model_module_version": "1.2.0",
      "model_name": "LayoutModel",
      "state": {
       "width": "95px"
      }
     },
     "aecd0feae45f4d23b44ecab0849892fd": {
      "model_module": "@jupyter-widgets/controls",
      "model_module_version": "1.5.0",
      "model_name": "HTMLModel",
      "state": {
       "layout": "IPY_MODEL_57d16d272212447d84fb2e7d9e71ca7e",
       "style": "IPY_MODEL_c281f73f65c1490ea222473d318e9d78",
       "value": "<h5>Job ID</h5>"
      }
     },
     "b29d5aeb88664680b462a1f533bad175": {
      "model_module": "@jupyter-widgets/controls",
      "model_module_version": "1.5.0",
      "model_name": "ButtonStyleModel",
      "state": {}
     },
     "bb81c868dfca4983970ac58b1c2bd59c": {
      "model_module": "@jupyter-widgets/base",
      "model_module_version": "1.2.0",
      "model_name": "LayoutModel",
      "state": {}
     },
     "c281f73f65c1490ea222473d318e9d78": {
      "model_module": "@jupyter-widgets/controls",
      "model_module_version": "1.5.0",
      "model_name": "DescriptionStyleModel",
      "state": {
       "description_width": ""
      }
     },
     "c54ceef55b2c4ab3998721bf9894d34a": {
      "model_module": "@jupyter-widgets/base",
      "model_module_version": "1.2.0",
      "model_name": "LayoutModel",
      "state": {
       "grid_template_areas": "\n                                       \". . . . right \"\n                                        ",
       "grid_template_columns": "20% 20% 20% 20% 20%",
       "width": "100%"
      }
     },
     "d03a72c639714f30b607a12f93d055cc": {
      "model_module": "@jupyter-widgets/controls",
      "model_module_version": "1.5.0",
      "model_name": "HTMLModel",
      "state": {
       "layout": "IPY_MODEL_81936667af9e4a3f9660409da5718583",
       "style": "IPY_MODEL_da5bbe1f28f9479593dde429985c25a9",
       "value": "<h5>Queue</h5>"
      }
     },
     "da5bbe1f28f9479593dde429985c25a9": {
      "model_module": "@jupyter-widgets/controls",
      "model_module_version": "1.5.0",
      "model_name": "DescriptionStyleModel",
      "state": {
       "description_width": ""
      }
     },
     "dbb697e29b1e4b35b7245c926a7397b2": {
      "model_module": "@jupyter-widgets/controls",
      "model_module_version": "1.5.0",
      "model_name": "HTMLModel",
      "state": {
       "layout": "IPY_MODEL_a96bfd7ee0b645b3ab9dfb25a98b3ffe",
       "style": "IPY_MODEL_83d4969607714b61a9809b1cccc4dbf0",
       "value": "<h5>Status</h5>"
      }
     },
     "ddd2d6c33c6a4794b5d2f2221007f745": {
      "model_module": "@jupyter-widgets/base",
      "model_module_version": "1.2.0",
      "model_name": "LayoutModel",
      "state": {
       "margin": "0px 0px 10px 0px"
      }
     },
     "e5cf145a2a1142ed81b26543ae402fba": {
      "model_module": "@jupyter-widgets/controls",
      "model_module_version": "1.5.0",
      "model_name": "ButtonModel",
      "state": {
       "button_style": "primary",
       "description": "Clear",
       "layout": "IPY_MODEL_5bf6d54902ef49e58de2b51df15e0681",
       "style": "IPY_MODEL_b29d5aeb88664680b462a1f533bad175"
      }
     },
     "f6211c53d62d49ea9514381aea3f255a": {
      "model_module": "@jupyter-widgets/controls",
      "model_module_version": "1.5.0",
      "model_name": "DescriptionStyleModel",
      "state": {
       "description_width": ""
      }
     }
    },
    "version_major": 2,
    "version_minor": 0
   }
  }
 },
 "nbformat": 4,
 "nbformat_minor": 5
}
