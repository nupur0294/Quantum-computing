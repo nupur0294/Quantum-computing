{
 "cells": [
  {
   "cell_type": "code",
   "execution_count": 2,
   "id": "779c5958-07f2-4a08-896c-7aa22f45e0f5",
   "metadata": {},
   "outputs": [
    {
     "name": "stderr",
     "output_type": "stream",
     "text": [
      "ibmqfactory.load_account:WARNING:2021-11-07 20:50:17,070: Credentials are already in use. The existing account in the session will be replaced.\n"
     ]
    }
   ],
   "source": [
    "import numpy as np\n",
    "\n",
    "# Importing standard Qiskit libraries\n",
    "from qiskit import *\n",
    "from qiskit.tools.jupyter import *\n",
    "from qiskit.visualization import *\n",
    "from ibm_quantum_widgets import *\n",
    "from qiskit.providers.aer import QasmSimulator\n",
    "\n",
    "# Loading your IBM Quantum account(s)\n",
    "provider = IBMQ.load_account()"
   ]
  },
  {
   "cell_type": "code",
   "execution_count": 4,
   "id": "04c48b6b-efb1-4d80-baeb-ec6af8fec3de",
   "metadata": {},
   "outputs": [
    {
     "name": "stderr",
     "output_type": "stream",
     "text": [
      "/opt/conda/lib/python3.8/site-packages/qiskit/aqua/__init__.py:86: DeprecationWarning: The package qiskit.aqua is deprecated. It was moved/refactored to qiskit-terra For more information see <https://github.com/Qiskit/qiskit-aqua/blob/main/README.md#migration-guide>\n",
      "  warn_package('aqua', 'qiskit-terra')\n"
     ]
    }
   ],
   "source": [
    "from qiskit.aqua.algorithms import Grover\n",
    "from qiskit.aqua.components.oracles import LogicalExpressionOracle"
   ]
  },
  {
   "cell_type": "code",
   "execution_count": 5,
   "id": "1c575e0a-85fe-4626-9c05-61caff2396f2",
   "metadata": {},
   "outputs": [],
   "source": [
    "from qiskit.tools.visualization import plot_histogram"
   ]
  },
  {
   "cell_type": "code",
   "execution_count": 6,
   "id": "7a34c359-a76f-4e89-a741-6d681b754edc",
   "metadata": {},
   "outputs": [],
   "source": [
    "logicalExpressions = '(james & lars) | ( kirk & Rob) & ~ (lars & Rob)'"
   ]
  },
  {
   "cell_type": "code",
   "execution_count": 7,
   "id": "28bea4fb-4660-4a87-abd4-eac4dac07da9",
   "metadata": {},
   "outputs": [
    {
     "name": "stderr",
     "output_type": "stream",
     "text": [
      "/opt/conda/lib/python3.8/site-packages/qiskit/aqua/algorithms/amplitude_amplifiers/grover.py:215: DeprecationWarning: The package qiskit.aqua.algorithms.amplitude_amplifiers is deprecated. It was moved/refactored to qiskit.algorithms.amplitude_amplifiers (pip install qiskit-terra). For more information see <https://github.com/Qiskit/qiskit-aqua/blob/main/README.md#migration-guide>\n",
      "  warn_package('aqua.algorithms.amplitude_amplifiers',\n"
     ]
    }
   ],
   "source": [
    "groverAlgorithm = Grover(LogicalExpressionOracle(logicalExpressions))"
   ]
  },
  {
   "cell_type": "code",
   "execution_count": 8,
   "id": "d734d3c9-baf3-48b3-82f7-f957f82f2b85",
   "metadata": {},
   "outputs": [],
   "source": [
    "backend = Aer.get_backend('qasm_simulator')"
   ]
  },
  {
   "cell_type": "code",
   "execution_count": 10,
   "id": "b498745a-9a35-466e-8bbc-db9170b0bc95",
   "metadata": {},
   "outputs": [
    {
     "name": "stderr",
     "output_type": "stream",
     "text": [
      "/opt/conda/lib/python3.8/site-packages/qiskit/aqua/quantum_instance.py:135: DeprecationWarning: The class qiskit.aqua.QuantumInstance is deprecated. It was moved/refactored to qiskit.utils.QuantumInstance (pip install qiskit-terra). For more information see <https://github.com/Qiskit/qiskit-aqua/blob/main/README.md#migration-guide>\n",
      "  warn_class('aqua.QuantumInstance',\n",
      "/opt/conda/lib/python3.8/site-packages/qiskit/utils/deprecation.py:62: DeprecationWarning: Using a qobj for run() is deprecated as of qiskit-aer 0.9.0 and will be removed no sooner than 3 months from that release date. Transpiled circuits should now be passed directly using `backend.run(circuits, **run_options).\n",
      "  return func(*args, **kwargs)\n"
     ]
    }
   ],
   "source": [
    "result = groverAlgorithm.run(backend)"
   ]
  },
  {
   "cell_type": "code",
   "execution_count": 15,
   "id": "c0c3924a-046b-4dce-b968-dc07a72df799",
   "metadata": {},
   "outputs": [
    {
     "data": {
      "text/plain": [
       "{'1101': 14,\n",
       " '0001': 15,\n",
       " '0010': 10,\n",
       " '1001': 7,\n",
       " '1011': 117,\n",
       " '1100': 13,\n",
       " '0101': 154,\n",
       " '1000': 16,\n",
       " '0011': 15,\n",
       " '0000': 20,\n",
       " '0111': 158,\n",
       " '1111': 161,\n",
       " '1010': 151,\n",
       " '1110': 147,\n",
       " '0100': 11,\n",
       " '0110': 15}"
      ]
     },
     "execution_count": 15,
     "metadata": {},
     "output_type": "execute_result"
    }
   ],
   "source": [
    "result[\"measurement\"]"
   ]
  },
  {
   "cell_type": "code",
   "execution_count": 16,
   "id": "a1a79749-083f-4dda-90ca-d6868ce386bc",
   "metadata": {},
   "outputs": [
    {
     "data": {
      "image/png": "[encoded data removed]",
      "text/plain": [
       "<Figure size 504x360 with 1 Axes>"
      ]
     },
     "execution_count": 16,
     "metadata": {},
     "output_type": "execute_result"
    }
   ],
   "source": [
    "plot_histogram(result['measurement'])"
   ]
  },
  {
   "cell_type": "code",
   "execution_count": null,
   "id": "75f0fffa-7722-4489-9a36-cbb8fcff0f49",
   "metadata": {},
   "outputs": [],
   "source": []
  }
 ],
 "metadata": {
  "kernelspec": {
   "display_name": "Qiskit v0.31.0 (ipykernel)",
   "language": "python",
   "name": "python3"
  },
  "language_info": {
   "codemirror_mode": {
    "name": "ipython",
    "version": 3
   },
   "file_extension": ".py",
   "mimetype": "text/x-python",
   "name": "python",
   "nbconvert_exporter": "python",
   "pygments_lexer": "ipython3",
   "version": "3.8.10"
  },
  "widgets": {
   "application/vnd.jupyter.widget-state+json": {
    "state": {
     "090e091005e24736b72ccbe0dcfef2d9": {
      "model_module": "@jupyter-widgets/controls",
      "model_module_version": "1.5.0",
      "model_name": "DescriptionStyleModel",
      "state": {
       "description_width": ""
      }
     },
     "148912646b6a4fffb1ca1b9f66f2ce66": {
      "model_module": "@jupyter-widgets/controls",
      "model_module_version": "1.5.0",
      "model_name": "HTMLModel",
      "state": {
       "layout": "IPY_MODEL_909735f329d6414aba7fb6a013e0ef17",
       "style": "IPY_MODEL_f64b3f68211347b088d1634a513a422c",
       "value": "<p style='font-family: IBM Plex Sans, Arial, Helvetica, sans-serif; font-size: 20px; font-weight: medium;'>Circuit Properties</p>"
      }
     },
     "1b9a65d9c29e44f0adbb6121e11ee93c": {
      "model_module": "@jupyter-widgets/base",
      "model_module_version": "1.2.0",
      "model_name": "LayoutModel",
      "state": {
       "width": "95px"
      }
     },
     "3004e817781b45828f760a8a38b7e072": {
      "model_module": "@jupyter-widgets/base",
      "model_module_version": "1.2.0",
      "model_name": "LayoutModel",
      "state": {
       "margin": "0px 0px 0px 37px",
       "width": "600px"
      }
     },
     "6549f39b31ca449fa0e9031cf9751d80": {
      "model_module": "@jupyter-widgets/controls",
      "model_module_version": "1.5.0",
      "model_name": "HTMLModel",
      "state": {
       "layout": "IPY_MODEL_d0ad14b3af834bdaa5f6daa1c4655ce1",
       "style": "IPY_MODEL_7f0d8e9ab954459aa8e7bf8eefab7a0e",
       "value": "<h5>Backend</h5>"
      }
     },
     "72b36bb4f60f45fba2113407ead54395": {
      "model_module": "@jupyter-widgets/base",
      "model_module_version": "1.2.0",
      "model_name": "LayoutModel",
      "state": {
       "grid_area": "right",
       "padding": "0px 0px 0px 0px",
       "width": "70px"
      }
     },
     "7f0d8e9ab954459aa8e7bf8eefab7a0e": {
      "model_module": "@jupyter-widgets/controls",
      "model_module_version": "1.5.0",
      "model_name": "DescriptionStyleModel",
      "state": {
       "description_width": ""
      }
     },
     "84ac5a67edf442b8b39fe7d5797e0ba7": {
      "model_module": "@jupyter-widgets/controls",
      "model_module_version": "1.5.0",
      "model_name": "DescriptionStyleModel",
      "state": {
       "description_width": ""
      }
     },
     "867164f9dc1542e09d0c4c0cef0c4c48": {
      "model_module": "@jupyter-widgets/controls",
      "model_module_version": "1.5.0",
      "model_name": "GridBoxModel",
      "state": {
       "children": [
        "IPY_MODEL_cc4e8bb8a7c046f7a38d7d6b0579d293"
       ],
       "layout": "IPY_MODEL_a1fb0093094445ea9606351532d26eca"
      }
     },
     "909735f329d6414aba7fb6a013e0ef17": {
      "model_module": "@jupyter-widgets/base",
      "model_module_version": "1.2.0",
      "model_name": "LayoutModel",
      "state": {
       "margin": "0px 0px 10px 0px"
      }
     },
     "a1fb0093094445ea9606351532d26eca": {
      "model_module": "@jupyter-widgets/base",
      "model_module_version": "1.2.0",
      "model_name": "LayoutModel",
      "state": {
       "grid_template_areas": "\n                                       \". . . . right \"\n                                        ",
       "grid_template_columns": "20% 20% 20% 20% 20%",
       "width": "100%"
      }
     },
     "a2954f1ba5654e07b87f7eaab896b313": {
      "model_module": "@jupyter-widgets/controls",
      "model_module_version": "1.5.0",
      "model_name": "ButtonStyleModel",
      "state": {}
     },
     "a831ab237c7542b5adcc982dde6d89da": {
      "model_module": "@jupyter-widgets/base",
      "model_module_version": "1.2.0",
      "model_name": "LayoutModel",
      "state": {
       "width": "190px"
      }
     },
     "b44720df2596434e8aae55ac62c1b87f": {
      "model_module": "@jupyter-widgets/controls",
      "model_module_version": "1.5.0",
      "model_name": "HTMLModel",
      "state": {
       "layout": "IPY_MODEL_f58079b81d4b40fab0c379664bd14bbe",
       "style": "IPY_MODEL_84ac5a67edf442b8b39fe7d5797e0ba7",
       "value": "<h5>Queue</h5>"
      }
     },
     "b9bb99371a6c4218a1737889338778c0": {
      "model_module": "@jupyter-widgets/controls",
      "model_module_version": "1.5.0",
      "model_name": "DescriptionStyleModel",
      "state": {
       "description_width": ""
      }
     },
     "c28e421c94f141d8a5336a6698e70263": {
      "model_module": "@jupyter-widgets/controls",
      "model_module_version": "1.5.0",
      "model_name": "DescriptionStyleModel",
      "state": {
       "description_width": ""
      }
     },
     "cc4e8bb8a7c046f7a38d7d6b0579d293": {
      "model_module": "@jupyter-widgets/controls",
      "model_module_version": "1.5.0",
      "model_name": "ButtonModel",
      "state": {
       "button_style": "primary",
       "description": "Clear",
       "layout": "IPY_MODEL_72b36bb4f60f45fba2113407ead54395",
       "style": "IPY_MODEL_a2954f1ba5654e07b87f7eaab896b313"
      }
     },
     "d0ad14b3af834bdaa5f6daa1c4655ce1": {
      "model_module": "@jupyter-widgets/base",
      "model_module_version": "1.2.0",
      "model_name": "LayoutModel",
      "state": {
       "width": "145px"
      }
     },
     "df2c139a897a4d0e8b7f89063018fe69": {
      "model_module": "@jupyter-widgets/controls",
      "model_module_version": "1.5.0",
      "model_name": "HBoxModel",
      "state": {
       "children": [
        "IPY_MODEL_f4f95b0983b54ee48f0ef7afab9a6908",
        "IPY_MODEL_6549f39b31ca449fa0e9031cf9751d80",
        "IPY_MODEL_dfd7d246a2574628abbadef8b61c3c75",
        "IPY_MODEL_b44720df2596434e8aae55ac62c1b87f",
        "IPY_MODEL_ea624bba026e4865891dcbfe668ad6b0"
       ],
       "layout": "IPY_MODEL_3004e817781b45828f760a8a38b7e072"
      }
     },
     "dfd7d246a2574628abbadef8b61c3c75": {
      "model_module": "@jupyter-widgets/controls",
      "model_module_version": "1.5.0",
      "model_name": "HTMLModel",
      "state": {
       "layout": "IPY_MODEL_1b9a65d9c29e44f0adbb6121e11ee93c",
       "style": "IPY_MODEL_b9bb99371a6c4218a1737889338778c0",
       "value": "<h5>Status</h5>"
      }
     },
     "ea624bba026e4865891dcbfe668ad6b0": {
      "model_module": "@jupyter-widgets/controls",
      "model_module_version": "1.5.0",
      "model_name": "HTMLModel",
      "state": {
       "layout": "IPY_MODEL_ee0c09a67bbf43518a9439a11cf25fb3",
       "style": "IPY_MODEL_090e091005e24736b72ccbe0dcfef2d9",
       "value": "<h5>Message</h5>"
      }
     },
     "ee0c09a67bbf43518a9439a11cf25fb3": {
      "model_module": "@jupyter-widgets/base",
      "model_module_version": "1.2.0",
      "model_name": "LayoutModel",
      "state": {}
     },
     "f4f95b0983b54ee48f0ef7afab9a6908": {
      "model_module": "@jupyter-widgets/controls",
      "model_module_version": "1.5.0",
      "model_name": "HTMLModel",
      "state": {
       "layout": "IPY_MODEL_a831ab237c7542b5adcc982dde6d89da",
       "style": "IPY_MODEL_c28e421c94f141d8a5336a6698e70263",
       "value": "<h5>Job ID</h5>"
      }
     },
     "f58079b81d4b40fab0c379664bd14bbe": {
      "model_module": "@jupyter-widgets/base",
      "model_module_version": "1.2.0",
      "model_name": "LayoutModel",
      "state": {
       "width": "70px"
      }
     },
     "f64b3f68211347b088d1634a513a422c": {
      "model_module": "@jupyter-widgets/controls",
      "model_module_version": "1.5.0",
      "model_name": "DescriptionStyleModel",
      "state": {
       "description_width": ""
      }
     }
    },
    "version_major": 2,
    "version_minor": 0
   }
  }
 },
 "nbformat": 4,
 "nbformat_minor": 5
}
