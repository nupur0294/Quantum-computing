{
 "cells": [
  {
   "cell_type": "code",
   "execution_count": 1,
   "id": "f18d8719-c283-4cfd-a380-3e1f8b4b0a15",
   "metadata": {},
   "outputs": [],
   "source": [
    "import numpy as np\n",
    "\n",
    "# Importing standard Qiskit libraries\n",
    "from qiskit import *\n",
    "from qiskit.tools.jupyter import *\n",
    "from qiskit.visualization import *\n",
    "from ibm_quantum_widgets import *\n",
    "from qiskit.providers.aer import QasmSimulator\n",
    "\n",
    "# Loading your IBM Quantum account(s)\n",
    "provider = IBMQ.load_account()"
   ]
  },
  {
   "cell_type": "code",
   "execution_count": 2,
   "id": "c72859ed-1605-4706-9fcb-ff8e4d7930d3",
   "metadata": {},
   "outputs": [],
   "source": [
    "circuit = QuantumCircuit(2,1)"
   ]
  },
  {
   "cell_type": "code",
   "execution_count": 3,
   "id": "34473ed1-67f5-4ea1-a0af-f90ba31e267f",
   "metadata": {},
   "outputs": [
    {
     "data": {
      "image/png": "[encoded data removed]",
      "text/plain": [
       "<Figure size 267.052x204.68 with 1 Axes>"
      ]
     },
     "execution_count": 3,
     "metadata": {},
     "output_type": "execute_result"
    }
   ],
   "source": [
    "circuit.h(0)\n",
    "circuit.x(1)\n",
    "circuit.h(1)\n",
    "circuit.barrier()\n",
    "circuit.draw()\n"
   ]
  },
  {
   "cell_type": "code",
   "execution_count": 4,
   "id": "8e74c31e-5f3d-4589-a411-c9fc65fab596",
   "metadata": {},
   "outputs": [
    {
     "data": {
      "image/png": "[encoded data removed]",
      "text/plain": [
       "<Figure size 568.052x204.68 with 1 Axes>"
      ]
     },
     "execution_count": 4,
     "metadata": {},
     "output_type": "execute_result"
    }
   ],
   "source": [
    "circuit.cx(0,1)\n",
    "circuit.barrier()\n",
    "circuit.h(0)\n",
    "circuit.barrier()\n",
    "circuit.measure(0,0)\n",
    "circuit.draw()\n"
   ]
  },
  {
   "cell_type": "code",
   "execution_count": 5,
   "id": "78d04907-07c2-4f47-a270-ac8d808c12de",
   "metadata": {},
   "outputs": [],
   "source": [
    "backend = Aer.get_backend('qasm_simulator')"
   ]
  },
  {
   "cell_type": "code",
   "execution_count": 6,
   "id": "754087d3-d35c-489b-b390-47e16faf3a6e",
   "metadata": {},
   "outputs": [],
   "source": [
    "result = execute(circuit, backend=backend,shots=1024).result()"
   ]
  },
  {
   "cell_type": "code",
   "execution_count": 9,
   "id": "837d148f-e574-41b4-b3f3-4ee3424d87cc",
   "metadata": {},
   "outputs": [
    {
     "data": {
      "image/png": "[encoded data removed]",
      "text/plain": [
       "<Figure size 504x360 with 1 Axes>"
      ]
     },
     "execution_count": 9,
     "metadata": {},
     "output_type": "execute_result"
    }
   ],
   "source": [
    "count=result.get_counts(circuit)\n",
    "plot_histogram([count])"
   ]
  },
  {
   "cell_type": "code",
   "execution_count": 12,
   "id": "f0ac7df8-048f-464f-a458-4f8785da5ff4",
   "metadata": {},
   "outputs": [],
   "source": [
    "provider = IBMQ.get_provider(\"ibm-q\")"
   ]
  },
  {
   "cell_type": "code",
   "execution_count": 14,
   "id": "cf002fe5-2139-48fe-80cc-93fae1d780e1",
   "metadata": {},
   "outputs": [],
   "source": [
    "quantum_computer = provider.get_backend(\"ibmq_belem\")"
   ]
  },
  {
   "cell_type": "code",
   "execution_count": 15,
   "id": "5b9dce03-0a45-43e8-9e3f-ea45f53c9770",
   "metadata": {},
   "outputs": [],
   "source": [
    "quantum_result = execute(circuit, backend=quantum_computer,shots=1024).result()"
   ]
  },
  {
   "cell_type": "code",
   "execution_count": null,
   "id": "fb805376-a5f8-41ee-a284-dfa529dc6bf9",
   "metadata": {},
   "outputs": [],
   "source": [
    "quantum_counts = quantum_results.get_counts()"
   ]
  }
 ],
 "metadata": {
  "kernelspec": {
   "display_name": "Qiskit v0.31.0 (ipykernel)",
   "language": "python",
   "name": "python3"
  },
  "language_info": {
   "codemirror_mode": {
    "name": "ipython",
    "version": 3
   },
   "file_extension": ".py",
   "mimetype": "text/x-python",
   "name": "python",
   "nbconvert_exporter": "python",
   "pygments_lexer": "ipython3",
   "version": "3.8.10"
  },
  "widgets": {
   "application/vnd.jupyter.widget-state+json": {
    "state": {
     "112c33780f824c269cd5720cc854555b": {
      "model_module": "@jupyter-widgets/controls",
      "model_module_version": "1.5.0",
      "model_name": "DescriptionStyleModel",
      "state": {
       "description_width": ""
      }
     },
     "167a49ea756b4284b6ac2b7de7567be4": {
      "model_module": "@jupyter-widgets/controls",
      "model_module_version": "1.5.0",
      "model_name": "HTMLModel",
      "state": {
       "layout": "IPY_MODEL_31530772bf58410b9fc45a0e21c051e4",
       "style": "IPY_MODEL_7967ba200bdc4e53983a400a9450c43a",
       "value": "6182af4407a4a34fe17c2439"
      }
     },
     "1d46ed3ceb684fe1a03104a4a042dcb1": {
      "model_module": "@jupyter-widgets/controls",
      "model_module_version": "1.5.0",
      "model_name": "HTMLModel",
      "state": {
       "layout": "IPY_MODEL_5e418cd53a5b40499a66f9c6eee01092",
       "style": "IPY_MODEL_a1f596f62bb547549d4bb26bad33f5bf",
       "value": "<h5>Job ID</h5>"
      }
     },
     "1dd5cb93db3745c0b781dfd389abb210": {
      "model_module": "@jupyter-widgets/base",
      "model_module_version": "1.2.0",
      "model_name": "LayoutModel",
      "state": {
       "margin": "0px 0px 10px 0px"
      }
     },
     "274d9269bdc14609b8709c4c44d58b45": {
      "model_module": "@jupyter-widgets/controls",
      "model_module_version": "1.5.0",
      "model_name": "DescriptionStyleModel",
      "state": {
       "description_width": ""
      }
     },
     "2ccea15e954a48dcaa1344834d94f97b": {
      "model_module": "@jupyter-widgets/controls",
      "model_module_version": "1.5.0",
      "model_name": "DescriptionStyleModel",
      "state": {
       "description_width": ""
      }
     },
     "31530772bf58410b9fc45a0e21c051e4": {
      "model_module": "@jupyter-widgets/base",
      "model_module_version": "1.2.0",
      "model_name": "LayoutModel",
      "state": {
       "width": "190px"
      }
     },
     "3300e3f7da244529ab8350f14b2b8656": {
      "model_module": "@jupyter-widgets/controls",
      "model_module_version": "1.5.0",
      "model_name": "DescriptionStyleModel",
      "state": {
       "description_width": ""
      }
     },
     "3cd3ddab20304fbd9713d4cd50385a35": {
      "model_module": "@jupyter-widgets/base",
      "model_module_version": "1.2.0",
      "model_name": "LayoutModel",
      "state": {
       "grid_template_areas": "\n                                       \". . . . right \"\n                                        ",
       "grid_template_columns": "20% 20% 20% 20% 20%",
       "width": "100%"
      }
     },
     "3fdd4258d1084c939ff7cd61e1872da2": {
      "model_module": "@jupyter-widgets/base",
      "model_module_version": "1.2.0",
      "model_name": "LayoutModel",
      "state": {
       "max_width": "700px",
       "min_width": "700px"
      }
     },
     "413ba1b85a1e4a46ae203a5a1550394e": {
      "model_module": "@jupyter-widgets/base",
      "model_module_version": "1.2.0",
      "model_name": "LayoutModel",
      "state": {
       "width": "70px"
      }
     },
     "4c03195d9648481ab0e0dafb4d95ce0f": {
      "model_module": "@jupyter-widgets/controls",
      "model_module_version": "1.5.0",
      "model_name": "DescriptionStyleModel",
      "state": {
       "description_width": ""
      }
     },
     "4f278e8ac95a474f8b0121557bd1ee87": {
      "model_module": "@jupyter-widgets/controls",
      "model_module_version": "1.5.0",
      "model_name": "HTMLModel",
      "state": {
       "layout": "IPY_MODEL_619eb55f8525417bbda12f585f3076c2",
       "style": "IPY_MODEL_274d9269bdc14609b8709c4c44d58b45",
       "value": "<h5>Message</h5>"
      }
     },
     "5616fe506b884b0fa27c05f38436e673": {
      "model_module": "@jupyter-widgets/base",
      "model_module_version": "1.2.0",
      "model_name": "LayoutModel",
      "state": {
       "margin": "0px 0px 0px 37px",
       "width": "600px"
      }
     },
     "586ae9c3e40f4a9abb7d0e6b324f1f6b": {
      "model_module": "@jupyter-widgets/controls",
      "model_module_version": "1.5.0",
      "model_name": "ButtonModel",
      "state": {
       "button_style": "primary",
       "description": "Clear",
       "layout": "IPY_MODEL_77e4d784f58d455496384310d06fd922",
       "style": "IPY_MODEL_b0a6122c454f4401bd748d9f96503bc2"
      }
     },
     "5e418cd53a5b40499a66f9c6eee01092": {
      "model_module": "@jupyter-widgets/base",
      "model_module_version": "1.2.0",
      "model_name": "LayoutModel",
      "state": {
       "width": "190px"
      }
     },
     "619eb55f8525417bbda12f585f3076c2": {
      "model_module": "@jupyter-widgets/base",
      "model_module_version": "1.2.0",
      "model_name": "LayoutModel",
      "state": {}
     },
     "6b1f7c5898474e80958262b265b71ba7": {
      "model_module": "@jupyter-widgets/controls",
      "model_module_version": "1.5.0",
      "model_name": "GridBoxModel",
      "state": {
       "children": [
        "IPY_MODEL_586ae9c3e40f4a9abb7d0e6b324f1f6b"
       ],
       "layout": "IPY_MODEL_3cd3ddab20304fbd9713d4cd50385a35"
      }
     },
     "768dd2adaf164d86abf76283bad24905": {
      "model_module": "@jupyter-widgets/base",
      "model_module_version": "1.2.0",
      "model_name": "LayoutModel",
      "state": {
       "width": "95px"
      }
     },
     "77e4d784f58d455496384310d06fd922": {
      "model_module": "@jupyter-widgets/base",
      "model_module_version": "1.2.0",
      "model_name": "LayoutModel",
      "state": {
       "grid_area": "right",
       "padding": "0px 0px 0px 0px",
       "width": "70px"
      }
     },
     "77f7ab7b04134da1b68c1eac86f6df2f": {
      "model_module": "@jupyter-widgets/base",
      "model_module_version": "1.2.0",
      "model_name": "LayoutModel",
      "state": {
       "width": "145px"
      }
     },
     "7967ba200bdc4e53983a400a9450c43a": {
      "model_module": "@jupyter-widgets/controls",
      "model_module_version": "1.5.0",
      "model_name": "DescriptionStyleModel",
      "state": {
       "description_width": ""
      }
     },
     "88809a411dd04c1684dadfcfb0a2f035": {
      "model_module": "@jupyter-widgets/controls",
      "model_module_version": "1.5.0",
      "model_name": "HBoxModel",
      "state": {
       "children": [
        "IPY_MODEL_ac28a87e837f4e49b50ccb0266bb8a47",
        "IPY_MODEL_167a49ea756b4284b6ac2b7de7567be4",
        "IPY_MODEL_af5d18d0a4d247239db3a71f3f441343",
        "IPY_MODEL_fce5194c27a449549facf710e3f45c5c",
        "IPY_MODEL_d833e6fdac4340ccb917dc80013abad1",
        "IPY_MODEL_bf91c7f7f2c644f8a17f4fe35182823e"
       ],
       "layout": "IPY_MODEL_3fdd4258d1084c939ff7cd61e1872da2"
      }
     },
     "8a6fb24c65e3452680dfed34ed73a7f2": {
      "model_module": "@jupyter-widgets/controls",
      "model_module_version": "1.5.0",
      "model_name": "HBoxModel",
      "state": {
       "children": [
        "IPY_MODEL_1d46ed3ceb684fe1a03104a4a042dcb1",
        "IPY_MODEL_bd057828630a4f949048d4af85237826",
        "IPY_MODEL_effd3f75f1a94595bb41c14585b791da",
        "IPY_MODEL_d7f43af33824421ab18fcda9d1646869",
        "IPY_MODEL_4f278e8ac95a474f8b0121557bd1ee87"
       ],
       "layout": "IPY_MODEL_5616fe506b884b0fa27c05f38436e673"
      }
     },
     "8eb8c0881c704232a13b041d5d96c788": {
      "model_module": "@jupyter-widgets/base",
      "model_module_version": "1.2.0",
      "model_name": "LayoutModel",
      "state": {
       "width": "95px"
      }
     },
     "a1f596f62bb547549d4bb26bad33f5bf": {
      "model_module": "@jupyter-widgets/controls",
      "model_module_version": "1.5.0",
      "model_name": "DescriptionStyleModel",
      "state": {
       "description_width": ""
      }
     },
     "a6d71e868e2d4fe5b68ac6661fd68b36": {
      "model_module": "@jupyter-widgets/controls",
      "model_module_version": "1.5.0",
      "model_name": "DescriptionStyleModel",
      "state": {
       "description_width": ""
      }
     },
     "aac4c9af3d57497d9d6047c892b8d9f5": {
      "model_module": "@jupyter-widgets/base",
      "model_module_version": "1.2.0",
      "model_name": "LayoutModel",
      "state": {
       "overflow_x": "scroll"
      }
     },
     "ac28a87e837f4e49b50ccb0266bb8a47": {
      "model_module": "@jupyter-widgets/controls",
      "model_module_version": "1.5.0",
      "model_name": "ButtonModel",
      "state": {
       "icon": "close",
       "layout": "IPY_MODEL_b166b7490df24141b69456cc285031fa",
       "style": "IPY_MODEL_cfff45596a7d44ce933ac7a1641f8c0b"
      }
     },
     "af5d18d0a4d247239db3a71f3f441343": {
      "model_module": "@jupyter-widgets/controls",
      "model_module_version": "1.5.0",
      "model_name": "HTMLModel",
      "state": {
       "layout": "IPY_MODEL_77f7ab7b04134da1b68c1eac86f6df2f",
       "style": "IPY_MODEL_b7e4b8b6e3174db1a1560dcea5b8fc2f",
       "value": "ibmq_belem"
      }
     },
     "b0a6122c454f4401bd748d9f96503bc2": {
      "model_module": "@jupyter-widgets/controls",
      "model_module_version": "1.5.0",
      "model_name": "ButtonStyleModel",
      "state": {}
     },
     "b166b7490df24141b69456cc285031fa": {
      "model_module": "@jupyter-widgets/base",
      "model_module_version": "1.2.0",
      "model_name": "LayoutModel",
      "state": {
       "margin": "0px 5px 0px 0px",
       "width": "32px"
      }
     },
     "b5f53a5b53504a3fb5afffb72396a5dd": {
      "model_module": "@jupyter-widgets/base",
      "model_module_version": "1.2.0",
      "model_name": "LayoutModel",
      "state": {
       "width": "145px"
      }
     },
     "b7e4b8b6e3174db1a1560dcea5b8fc2f": {
      "model_module": "@jupyter-widgets/controls",
      "model_module_version": "1.5.0",
      "model_name": "DescriptionStyleModel",
      "state": {
       "description_width": ""
      }
     },
     "bd057828630a4f949048d4af85237826": {
      "model_module": "@jupyter-widgets/controls",
      "model_module_version": "1.5.0",
      "model_name": "HTMLModel",
      "state": {
       "layout": "IPY_MODEL_b5f53a5b53504a3fb5afffb72396a5dd",
       "style": "IPY_MODEL_112c33780f824c269cd5720cc854555b",
       "value": "<h5>Backend</h5>"
      }
     },
     "bf91c7f7f2c644f8a17f4fe35182823e": {
      "model_module": "@jupyter-widgets/controls",
      "model_module_version": "1.5.0",
      "model_name": "HTMLModel",
      "state": {
       "layout": "IPY_MODEL_aac4c9af3d57497d9d6047c892b8d9f5",
       "style": "IPY_MODEL_3300e3f7da244529ab8350f14b2b8656",
       "value": "job has successfully run"
      }
     },
     "cfff45596a7d44ce933ac7a1641f8c0b": {
      "model_module": "@jupyter-widgets/controls",
      "model_module_version": "1.5.0",
      "model_name": "ButtonStyleModel",
      "state": {
       "button_color": "white"
      }
     },
     "d6ead860f08b472989aeb39b2f46479f": {
      "model_module": "@jupyter-widgets/controls",
      "model_module_version": "1.5.0",
      "model_name": "HTMLModel",
      "state": {
       "layout": "IPY_MODEL_1dd5cb93db3745c0b781dfd389abb210",
       "style": "IPY_MODEL_2ccea15e954a48dcaa1344834d94f97b",
       "value": "<p style='font-family: IBM Plex Sans, Arial, Helvetica, sans-serif; font-size: 20px; font-weight: medium;'>Circuit Properties</p>"
      }
     },
     "d7f43af33824421ab18fcda9d1646869": {
      "model_module": "@jupyter-widgets/controls",
      "model_module_version": "1.5.0",
      "model_name": "HTMLModel",
      "state": {
       "layout": "IPY_MODEL_e3d42961754e4077925cc79dc25a1e4a",
       "style": "IPY_MODEL_fbfcb2a1fc1b4a6eae05b5447f38498b",
       "value": "<h5>Queue</h5>"
      }
     },
     "d833e6fdac4340ccb917dc80013abad1": {
      "model_module": "@jupyter-widgets/controls",
      "model_module_version": "1.5.0",
      "model_name": "HTMLModel",
      "state": {
       "layout": "IPY_MODEL_413ba1b85a1e4a46ae203a5a1550394e",
       "style": "IPY_MODEL_a6d71e868e2d4fe5b68ac6661fd68b36",
       "value": "-"
      }
     },
     "e3d42961754e4077925cc79dc25a1e4a": {
      "model_module": "@jupyter-widgets/base",
      "model_module_version": "1.2.0",
      "model_name": "LayoutModel",
      "state": {
       "width": "70px"
      }
     },
     "effd3f75f1a94595bb41c14585b791da": {
      "model_module": "@jupyter-widgets/controls",
      "model_module_version": "1.5.0",
      "model_name": "HTMLModel",
      "state": {
       "layout": "IPY_MODEL_8eb8c0881c704232a13b041d5d96c788",
       "style": "IPY_MODEL_4c03195d9648481ab0e0dafb4d95ce0f",
       "value": "<h5>Status</h5>"
      }
     },
     "f9a99e2c3f154a41b3e671d8f7c88ec1": {
      "model_module": "@jupyter-widgets/controls",
      "model_module_version": "1.5.0",
      "model_name": "DescriptionStyleModel",
      "state": {
       "description_width": ""
      }
     },
     "fbfcb2a1fc1b4a6eae05b5447f38498b": {
      "model_module": "@jupyter-widgets/controls",
      "model_module_version": "1.5.0",
      "model_name": "DescriptionStyleModel",
      "state": {
       "description_width": ""
      }
     },
     "fce5194c27a449549facf710e3f45c5c": {
      "model_module": "@jupyter-widgets/controls",
      "model_module_version": "1.5.0",
      "model_name": "HTMLModel",
      "state": {
       "layout": "IPY_MODEL_768dd2adaf164d86abf76283bad24905",
       "style": "IPY_MODEL_f9a99e2c3f154a41b3e671d8f7c88ec1",
       "value": "<font style='color:#34BC6E'>DONE</font>"
      }
     }
    },
    "version_major": 2,
    "version_minor": 0
   }
  }
 },
 "nbformat": 4,
 "nbformat_minor": 5
}
