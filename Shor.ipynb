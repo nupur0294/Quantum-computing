{
 "cells": [
  {
   "cell_type": "code",
   "execution_count": 2,
   "id": "497eb404-0693-4230-839f-06c3fa40beb0",
   "metadata": {},
   "outputs": [
    {
     "name": "stderr",
     "output_type": "stream",
     "text": [
      "ibmqfactory.load_account:WARNING:2021-11-08 20:04:16,956: Credentials are already in use. The existing account in the session will be replaced.\n"
     ]
    }
   ],
   "source": [
    "import numpy as np\n",
    "\n",
    "# Importing standard Qiskit libraries\n",
    "from qiskit import *\n",
    "from qiskit.tools.jupyter import *\n",
    "from qiskit.visualization import *\n",
    "from ibm_quantum_widgets import *\n",
    "from qiskit.providers.aer import QasmSimulator\n",
    "\n",
    "# Loading your IBM Quantum account(s)\n",
    "provider = IBMQ.load_account()"
   ]
  },
  {
   "cell_type": "code",
   "execution_count": 5,
   "id": "de2e656b-c9d7-4c98-ab58-4c435b7a1c6e",
   "metadata": {},
   "outputs": [],
   "source": [
    "from qiskit.algorithms import Shor"
   ]
  },
  {
   "cell_type": "code",
   "execution_count": 7,
   "id": "ce8d978e-7db6-4caf-b870-451d0bfecb13",
   "metadata": {},
   "outputs": [],
   "source": [
    "quantum_instance = Aer.get_backend('qasm_simulator')"
   ]
  },
  {
   "cell_type": "code",
   "execution_count": 8,
   "id": "26eb9363-4b65-473b-81a1-ee2e63149bfe",
   "metadata": {},
   "outputs": [],
   "source": [
    "shor = Shor(quantum_instance = quantum_instance)"
   ]
  },
  {
   "cell_type": "code",
   "execution_count": 9,
   "id": "4f684943-bf76-4173-8a60-c316443cd196",
   "metadata": {},
   "outputs": [],
   "source": [
    "result = shor.factor(N=15, a=7)"
   ]
  },
  {
   "cell_type": "code",
   "execution_count": 10,
   "id": "437089cd-733b-498a-a0a2-c139feb296a8",
   "metadata": {},
   "outputs": [
    {
     "name": "stdout",
     "output_type": "stream",
     "text": [
      "Factors [[3, 5]]\n"
     ]
    }
   ],
   "source": [
    "print(\"Factors\", result.factors)"
   ]
  },
  {
   "cell_type": "code",
   "execution_count": null,
   "id": "43433d67-5479-4a1d-ba83-71ce24c9dd02",
   "metadata": {},
   "outputs": [],
   "source": []
  }
 ],
 "metadata": {
  "kernelspec": {
   "display_name": "Qiskit v0.31.0 (ipykernel)",
   "language": "python",
   "name": "python3"
  },
  "language_info": {
   "codemirror_mode": {
    "name": "ipython",
    "version": 3
   },
   "file_extension": ".py",
   "mimetype": "text/x-python",
   "name": "python",
   "nbconvert_exporter": "python",
   "pygments_lexer": "ipython3",
   "version": "3.8.10"
  },
  "widgets": {
   "application/vnd.jupyter.widget-state+json": {
    "state": {
     "013ff18a6b814b3fa70d18444e962cbd": {
      "model_module": "@jupyter-widgets/base",
      "model_module_version": "1.2.0",
      "model_name": "LayoutModel",
      "state": {
       "margin": "0px 0px 10px 0px"
      }
     },
     "062b4cbf941c44298d5229d1d12091f8": {
      "model_module": "@jupyter-widgets/controls",
      "model_module_version": "1.5.0",
      "model_name": "DescriptionStyleModel",
      "state": {
       "description_width": ""
      }
     },
     "0e6be82f23b04f689181ffdc94deb518": {
      "model_module": "@jupyter-widgets/base",
      "model_module_version": "1.2.0",
      "model_name": "LayoutModel",
      "state": {
       "grid_area": "right",
       "padding": "0px 0px 0px 0px",
       "width": "70px"
      }
     },
     "2dcc2cbfc299477186c703763e206470": {
      "model_module": "@jupyter-widgets/controls",
      "model_module_version": "1.5.0",
      "model_name": "DescriptionStyleModel",
      "state": {
       "description_width": ""
      }
     },
     "31aebcbbe00a4c9d981b833db06ec5bf": {
      "model_module": "@jupyter-widgets/controls",
      "model_module_version": "1.5.0",
      "model_name": "GridBoxModel",
      "state": {
       "children": [
        "IPY_MODEL_5d41d2704cb2473ab299c8539356ecf3"
       ],
       "layout": "IPY_MODEL_c0696ab1b51545cfa2bcae9b12dfc76b"
      }
     },
     "350ee117d477475faa549d273454a5ce": {
      "model_module": "@jupyter-widgets/controls",
      "model_module_version": "1.5.0",
      "model_name": "HTMLModel",
      "state": {
       "layout": "IPY_MODEL_d8ce31bdaf0942e5864e6e1fca3fd7d6",
       "style": "IPY_MODEL_062b4cbf941c44298d5229d1d12091f8",
       "value": "<h5>Status</h5>"
      }
     },
     "386bfb878ef0402fa0e6c24410a890a3": {
      "model_module": "@jupyter-widgets/base",
      "model_module_version": "1.2.0",
      "model_name": "LayoutModel",
      "state": {
       "margin": "0px 0px 0px 37px",
       "width": "600px"
      }
     },
     "454c241a81664e91a5bc86e139546d2d": {
      "model_module": "@jupyter-widgets/controls",
      "model_module_version": "1.5.0",
      "model_name": "HBoxModel",
      "state": {
       "children": [
        "IPY_MODEL_679bccf49d0146878e01c366664c4592",
        "IPY_MODEL_fb783cfd9509464f9b445bb0156ae117",
        "IPY_MODEL_350ee117d477475faa549d273454a5ce",
        "IPY_MODEL_6f8e8775f1f949fab94c27ab6240d58b",
        "IPY_MODEL_584fcfa2f48747cea34f3909946ce9d5"
       ],
       "layout": "IPY_MODEL_386bfb878ef0402fa0e6c24410a890a3"
      }
     },
     "584fcfa2f48747cea34f3909946ce9d5": {
      "model_module": "@jupyter-widgets/controls",
      "model_module_version": "1.5.0",
      "model_name": "HTMLModel",
      "state": {
       "layout": "IPY_MODEL_5b1d5f62f1b340b9908281aee45dafe9",
       "style": "IPY_MODEL_611ab00499c24ea3820907de68324173",
       "value": "<h5>Message</h5>"
      }
     },
     "5b1d5f62f1b340b9908281aee45dafe9": {
      "model_module": "@jupyter-widgets/base",
      "model_module_version": "1.2.0",
      "model_name": "LayoutModel",
      "state": {}
     },
     "5d41d2704cb2473ab299c8539356ecf3": {
      "model_module": "@jupyter-widgets/controls",
      "model_module_version": "1.5.0",
      "model_name": "ButtonModel",
      "state": {
       "button_style": "primary",
       "description": "Clear",
       "layout": "IPY_MODEL_0e6be82f23b04f689181ffdc94deb518",
       "style": "IPY_MODEL_8cd6f932770943b49da0a2ececf4f21e"
      }
     },
     "5d54f87254594c5fb7e5a4b577fd66f0": {
      "model_module": "@jupyter-widgets/base",
      "model_module_version": "1.2.0",
      "model_name": "LayoutModel",
      "state": {
       "width": "145px"
      }
     },
     "611ab00499c24ea3820907de68324173": {
      "model_module": "@jupyter-widgets/controls",
      "model_module_version": "1.5.0",
      "model_name": "DescriptionStyleModel",
      "state": {
       "description_width": ""
      }
     },
     "679bccf49d0146878e01c366664c4592": {
      "model_module": "@jupyter-widgets/controls",
      "model_module_version": "1.5.0",
      "model_name": "HTMLModel",
      "state": {
       "layout": "IPY_MODEL_7f684c2f8307494488faccc46b4045f0",
       "style": "IPY_MODEL_f4ebf4951ff54e03b0454d43b70b918f",
       "value": "<h5>Job ID</h5>"
      }
     },
     "6f8e8775f1f949fab94c27ab6240d58b": {
      "model_module": "@jupyter-widgets/controls",
      "model_module_version": "1.5.0",
      "model_name": "HTMLModel",
      "state": {
       "layout": "IPY_MODEL_7bbfdb4f96344a95a4ce147d9e13637c",
       "style": "IPY_MODEL_7aa48673743e447885fb0b3073c80e44",
       "value": "<h5>Queue</h5>"
      }
     },
     "7aa48673743e447885fb0b3073c80e44": {
      "model_module": "@jupyter-widgets/controls",
      "model_module_version": "1.5.0",
      "model_name": "DescriptionStyleModel",
      "state": {
       "description_width": ""
      }
     },
     "7bbfdb4f96344a95a4ce147d9e13637c": {
      "model_module": "@jupyter-widgets/base",
      "model_module_version": "1.2.0",
      "model_name": "LayoutModel",
      "state": {
       "width": "70px"
      }
     },
     "7f684c2f8307494488faccc46b4045f0": {
      "model_module": "@jupyter-widgets/base",
      "model_module_version": "1.2.0",
      "model_name": "LayoutModel",
      "state": {
       "width": "190px"
      }
     },
     "8cd6f932770943b49da0a2ececf4f21e": {
      "model_module": "@jupyter-widgets/controls",
      "model_module_version": "1.5.0",
      "model_name": "ButtonStyleModel",
      "state": {}
     },
     "c0696ab1b51545cfa2bcae9b12dfc76b": {
      "model_module": "@jupyter-widgets/base",
      "model_module_version": "1.2.0",
      "model_name": "LayoutModel",
      "state": {
       "grid_template_areas": "\n                                       \". . . . right \"\n                                        ",
       "grid_template_columns": "20% 20% 20% 20% 20%",
       "width": "100%"
      }
     },
     "d8ce31bdaf0942e5864e6e1fca3fd7d6": {
      "model_module": "@jupyter-widgets/base",
      "model_module_version": "1.2.0",
      "model_name": "LayoutModel",
      "state": {
       "width": "95px"
      }
     },
     "e7898abf51b54ea4abd4b26c55a4cd77": {
      "model_module": "@jupyter-widgets/controls",
      "model_module_version": "1.5.0",
      "model_name": "DescriptionStyleModel",
      "state": {
       "description_width": ""
      }
     },
     "e8c2b5024032478eadc51480d37319bb": {
      "model_module": "@jupyter-widgets/controls",
      "model_module_version": "1.5.0",
      "model_name": "HTMLModel",
      "state": {
       "layout": "IPY_MODEL_013ff18a6b814b3fa70d18444e962cbd",
       "style": "IPY_MODEL_e7898abf51b54ea4abd4b26c55a4cd77",
       "value": "<p style='font-family: IBM Plex Sans, Arial, Helvetica, sans-serif; font-size: 20px; font-weight: medium;'>Circuit Properties</p>"
      }
     },
     "f4ebf4951ff54e03b0454d43b70b918f": {
      "model_module": "@jupyter-widgets/controls",
      "model_module_version": "1.5.0",
      "model_name": "DescriptionStyleModel",
      "state": {
       "description_width": ""
      }
     },
     "fb783cfd9509464f9b445bb0156ae117": {
      "model_module": "@jupyter-widgets/controls",
      "model_module_version": "1.5.0",
      "model_name": "HTMLModel",
      "state": {
       "layout": "IPY_MODEL_5d54f87254594c5fb7e5a4b577fd66f0",
       "style": "IPY_MODEL_2dcc2cbfc299477186c703763e206470",
       "value": "<h5>Backend</h5>"
      }
     }
    },
    "version_major": 2,
    "version_minor": 0
   }
  }
 },
 "nbformat": 4,
 "nbformat_minor": 5
}
